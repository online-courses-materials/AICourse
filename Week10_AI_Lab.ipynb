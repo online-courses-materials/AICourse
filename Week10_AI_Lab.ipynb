{
  "nbformat": 4,
  "nbformat_minor": 0,
  "metadata": {
    "colab": {
      "provenance": [],
      "include_colab_link": true
    },
    "kernelspec": {
      "name": "python3",
      "display_name": "Python 3"
    },
    "language_info": {
      "name": "python"
    },
    "widgets": {
      "application/vnd.jupyter.widget-state+json": {
        "1b93b46e81674fe4a7f4231648b7a5ec": {
          "model_module": "@jupyter-widgets/controls",
          "model_name": "HBoxModel",
          "model_module_version": "1.5.0",
          "state": {
            "_dom_classes": [],
            "_model_module": "@jupyter-widgets/controls",
            "_model_module_version": "1.5.0",
            "_model_name": "HBoxModel",
            "_view_count": null,
            "_view_module": "@jupyter-widgets/controls",
            "_view_module_version": "1.5.0",
            "_view_name": "HBoxView",
            "box_style": "",
            "children": [
              "IPY_MODEL_9c6a7e735d574eda98f4f754f5ab9bb3",
              "IPY_MODEL_4b07a243291249e9a062b39e9aec2ecd",
              "IPY_MODEL_8327c5dc259b48db93fec44efed315bf"
            ],
            "layout": "IPY_MODEL_bfd80513577f479c87647d083f80929e"
          }
        },
        "9c6a7e735d574eda98f4f754f5ab9bb3": {
          "model_module": "@jupyter-widgets/controls",
          "model_name": "HTMLModel",
          "model_module_version": "1.5.0",
          "state": {
            "_dom_classes": [],
            "_model_module": "@jupyter-widgets/controls",
            "_model_module_version": "1.5.0",
            "_model_name": "HTMLModel",
            "_view_count": null,
            "_view_module": "@jupyter-widgets/controls",
            "_view_module_version": "1.5.0",
            "_view_name": "HTMLView",
            "description": "",
            "description_tooltip": null,
            "layout": "IPY_MODEL_910abf46df6443e2a21934c239491d0d",
            "placeholder": "​",
            "style": "IPY_MODEL_10bfc1a80fdf457d8139952f223415f9",
            "value": "100%"
          }
        },
        "4b07a243291249e9a062b39e9aec2ecd": {
          "model_module": "@jupyter-widgets/controls",
          "model_name": "FloatProgressModel",
          "model_module_version": "1.5.0",
          "state": {
            "_dom_classes": [],
            "_model_module": "@jupyter-widgets/controls",
            "_model_module_version": "1.5.0",
            "_model_name": "FloatProgressModel",
            "_view_count": null,
            "_view_module": "@jupyter-widgets/controls",
            "_view_module_version": "1.5.0",
            "_view_name": "ProgressView",
            "bar_style": "success",
            "description": "",
            "description_tooltip": null,
            "layout": "IPY_MODEL_3bbe33f2ac3a418da20e489cad6a79aa",
            "max": 102530333,
            "min": 0,
            "orientation": "horizontal",
            "style": "IPY_MODEL_13e02c2ff90b4155aa2014aee622881b",
            "value": 102530333
          }
        },
        "8327c5dc259b48db93fec44efed315bf": {
          "model_module": "@jupyter-widgets/controls",
          "model_name": "HTMLModel",
          "model_module_version": "1.5.0",
          "state": {
            "_dom_classes": [],
            "_model_module": "@jupyter-widgets/controls",
            "_model_module_version": "1.5.0",
            "_model_name": "HTMLModel",
            "_view_count": null,
            "_view_module": "@jupyter-widgets/controls",
            "_view_module_version": "1.5.0",
            "_view_name": "HTMLView",
            "description": "",
            "description_tooltip": null,
            "layout": "IPY_MODEL_19bf7f56b3fd41ae89f0d5134036ccac",
            "placeholder": "​",
            "style": "IPY_MODEL_64b5f81a16e64ecfa6f701ffd5be5e30",
            "value": " 97.8M/97.8M [00:00&lt;00:00, 230MB/s]"
          }
        },
        "bfd80513577f479c87647d083f80929e": {
          "model_module": "@jupyter-widgets/base",
          "model_name": "LayoutModel",
          "model_module_version": "1.2.0",
          "state": {
            "_model_module": "@jupyter-widgets/base",
            "_model_module_version": "1.2.0",
            "_model_name": "LayoutModel",
            "_view_count": null,
            "_view_module": "@jupyter-widgets/base",
            "_view_module_version": "1.2.0",
            "_view_name": "LayoutView",
            "align_content": null,
            "align_items": null,
            "align_self": null,
            "border": null,
            "bottom": null,
            "display": null,
            "flex": null,
            "flex_flow": null,
            "grid_area": null,
            "grid_auto_columns": null,
            "grid_auto_flow": null,
            "grid_auto_rows": null,
            "grid_column": null,
            "grid_gap": null,
            "grid_row": null,
            "grid_template_areas": null,
            "grid_template_columns": null,
            "grid_template_rows": null,
            "height": null,
            "justify_content": null,
            "justify_items": null,
            "left": null,
            "margin": null,
            "max_height": null,
            "max_width": null,
            "min_height": null,
            "min_width": null,
            "object_fit": null,
            "object_position": null,
            "order": null,
            "overflow": null,
            "overflow_x": null,
            "overflow_y": null,
            "padding": null,
            "right": null,
            "top": null,
            "visibility": null,
            "width": null
          }
        },
        "910abf46df6443e2a21934c239491d0d": {
          "model_module": "@jupyter-widgets/base",
          "model_name": "LayoutModel",
          "model_module_version": "1.2.0",
          "state": {
            "_model_module": "@jupyter-widgets/base",
            "_model_module_version": "1.2.0",
            "_model_name": "LayoutModel",
            "_view_count": null,
            "_view_module": "@jupyter-widgets/base",
            "_view_module_version": "1.2.0",
            "_view_name": "LayoutView",
            "align_content": null,
            "align_items": null,
            "align_self": null,
            "border": null,
            "bottom": null,
            "display": null,
            "flex": null,
            "flex_flow": null,
            "grid_area": null,
            "grid_auto_columns": null,
            "grid_auto_flow": null,
            "grid_auto_rows": null,
            "grid_column": null,
            "grid_gap": null,
            "grid_row": null,
            "grid_template_areas": null,
            "grid_template_columns": null,
            "grid_template_rows": null,
            "height": null,
            "justify_content": null,
            "justify_items": null,
            "left": null,
            "margin": null,
            "max_height": null,
            "max_width": null,
            "min_height": null,
            "min_width": null,
            "object_fit": null,
            "object_position": null,
            "order": null,
            "overflow": null,
            "overflow_x": null,
            "overflow_y": null,
            "padding": null,
            "right": null,
            "top": null,
            "visibility": null,
            "width": null
          }
        },
        "10bfc1a80fdf457d8139952f223415f9": {
          "model_module": "@jupyter-widgets/controls",
          "model_name": "DescriptionStyleModel",
          "model_module_version": "1.5.0",
          "state": {
            "_model_module": "@jupyter-widgets/controls",
            "_model_module_version": "1.5.0",
            "_model_name": "DescriptionStyleModel",
            "_view_count": null,
            "_view_module": "@jupyter-widgets/base",
            "_view_module_version": "1.2.0",
            "_view_name": "StyleView",
            "description_width": ""
          }
        },
        "3bbe33f2ac3a418da20e489cad6a79aa": {
          "model_module": "@jupyter-widgets/base",
          "model_name": "LayoutModel",
          "model_module_version": "1.2.0",
          "state": {
            "_model_module": "@jupyter-widgets/base",
            "_model_module_version": "1.2.0",
            "_model_name": "LayoutModel",
            "_view_count": null,
            "_view_module": "@jupyter-widgets/base",
            "_view_module_version": "1.2.0",
            "_view_name": "LayoutView",
            "align_content": null,
            "align_items": null,
            "align_self": null,
            "border": null,
            "bottom": null,
            "display": null,
            "flex": null,
            "flex_flow": null,
            "grid_area": null,
            "grid_auto_columns": null,
            "grid_auto_flow": null,
            "grid_auto_rows": null,
            "grid_column": null,
            "grid_gap": null,
            "grid_row": null,
            "grid_template_areas": null,
            "grid_template_columns": null,
            "grid_template_rows": null,
            "height": null,
            "justify_content": null,
            "justify_items": null,
            "left": null,
            "margin": null,
            "max_height": null,
            "max_width": null,
            "min_height": null,
            "min_width": null,
            "object_fit": null,
            "object_position": null,
            "order": null,
            "overflow": null,
            "overflow_x": null,
            "overflow_y": null,
            "padding": null,
            "right": null,
            "top": null,
            "visibility": null,
            "width": null
          }
        },
        "13e02c2ff90b4155aa2014aee622881b": {
          "model_module": "@jupyter-widgets/controls",
          "model_name": "ProgressStyleModel",
          "model_module_version": "1.5.0",
          "state": {
            "_model_module": "@jupyter-widgets/controls",
            "_model_module_version": "1.5.0",
            "_model_name": "ProgressStyleModel",
            "_view_count": null,
            "_view_module": "@jupyter-widgets/base",
            "_view_module_version": "1.2.0",
            "_view_name": "StyleView",
            "bar_color": null,
            "description_width": ""
          }
        },
        "19bf7f56b3fd41ae89f0d5134036ccac": {
          "model_module": "@jupyter-widgets/base",
          "model_name": "LayoutModel",
          "model_module_version": "1.2.0",
          "state": {
            "_model_module": "@jupyter-widgets/base",
            "_model_module_version": "1.2.0",
            "_model_name": "LayoutModel",
            "_view_count": null,
            "_view_module": "@jupyter-widgets/base",
            "_view_module_version": "1.2.0",
            "_view_name": "LayoutView",
            "align_content": null,
            "align_items": null,
            "align_self": null,
            "border": null,
            "bottom": null,
            "display": null,
            "flex": null,
            "flex_flow": null,
            "grid_area": null,
            "grid_auto_columns": null,
            "grid_auto_flow": null,
            "grid_auto_rows": null,
            "grid_column": null,
            "grid_gap": null,
            "grid_row": null,
            "grid_template_areas": null,
            "grid_template_columns": null,
            "grid_template_rows": null,
            "height": null,
            "justify_content": null,
            "justify_items": null,
            "left": null,
            "margin": null,
            "max_height": null,
            "max_width": null,
            "min_height": null,
            "min_width": null,
            "object_fit": null,
            "object_position": null,
            "order": null,
            "overflow": null,
            "overflow_x": null,
            "overflow_y": null,
            "padding": null,
            "right": null,
            "top": null,
            "visibility": null,
            "width": null
          }
        },
        "64b5f81a16e64ecfa6f701ffd5be5e30": {
          "model_module": "@jupyter-widgets/controls",
          "model_name": "DescriptionStyleModel",
          "model_module_version": "1.5.0",
          "state": {
            "_model_module": "@jupyter-widgets/controls",
            "_model_module_version": "1.5.0",
            "_model_name": "DescriptionStyleModel",
            "_view_count": null,
            "_view_module": "@jupyter-widgets/base",
            "_view_module_version": "1.2.0",
            "_view_name": "StyleView",
            "description_width": ""
          }
        }
      }
    },
    "accelerator": "GPU",
    "gpuClass": "standard"
  },
  "cells": [
    {
      "cell_type": "markdown",
      "metadata": {
        "id": "view-in-github",
        "colab_type": "text"
      },
      "source": [
        "<a href=\"https://colab.research.google.com/github/online-courses-materials/AICourse/blob/main/Week10_AI_Lab.ipynb\" target=\"_parent\"><img src=\"https://colab.research.google.com/assets/colab-badge.svg\" alt=\"Open In Colab\"/></a>"
      ]
    },
    {
      "cell_type": "code",
      "execution_count": 2,
      "metadata": {
        "id": "jONCvmt9atzX"
      },
      "outputs": [],
      "source": [
        "import torch\n",
        "import torchvision\n",
        "from torchvision import transforms\n",
        "from PIL import Image\n",
        "\n",
        "device = torch.device(\"cuda:0\" if torch.cuda.is_available() else \"cpu\")"
      ]
    },
    {
      "cell_type": "code",
      "source": [
        "import numpy as np\n",
        "from tensorflow.keras.applications import resnet50\n",
        "from tensorflow.keras.preprocessing.image import load_img\n",
        "from tensorflow.keras.preprocessing.image import img_to_array\n",
        "from tensorflow.keras.applications.resnet50 import \\\n",
        "decode_predictions\n",
        "import matplotlib.pyplot as plt\n",
        "import tensorflow as tf\n",
        "import logging\n",
        "tf.get_logger().setLevel(logging.ERROR)"
      ],
      "metadata": {
        "id": "PfoqpqpRBcNl"
      },
      "execution_count": 4,
      "outputs": []
    },
    {
      "cell_type": "code",
      "source": [
        "# Load image and convert to 4-dimensional tensor.\n",
        "image = load_img('../data/dog.jpg', target_size=(224, 224))\n",
        "image_np = img_to_array(image)\n",
        "image_np = np.expand_dims(image_np, axis=0)"
      ],
      "metadata": {
        "colab": {
          "base_uri": "https://localhost:8080/",
          "height": 364
        },
        "id": "ge4RMN0KBj29",
        "outputId": "1a8dd164-9afc-4fcb-eb2c-fc11dec3dfb3"
      },
      "execution_count": 5,
      "outputs": [
        {
          "output_type": "error",
          "ename": "FileNotFoundError",
          "evalue": "ignored",
          "traceback": [
            "\u001b[0;31m---------------------------------------------------------------------------\u001b[0m",
            "\u001b[0;31mFileNotFoundError\u001b[0m                         Traceback (most recent call last)",
            "\u001b[0;32m<ipython-input-5-a7c7ad927e40>\u001b[0m in \u001b[0;36m<module>\u001b[0;34m\u001b[0m\n\u001b[1;32m      1\u001b[0m \u001b[0;31m# Load image and convert to 4-dimensional tensor.\u001b[0m\u001b[0;34m\u001b[0m\u001b[0;34m\u001b[0m\u001b[0;34m\u001b[0m\u001b[0m\n\u001b[0;32m----> 2\u001b[0;31m \u001b[0mimage\u001b[0m \u001b[0;34m=\u001b[0m \u001b[0mload_img\u001b[0m\u001b[0;34m(\u001b[0m\u001b[0;34m'../data/dog.jpg'\u001b[0m\u001b[0;34m,\u001b[0m \u001b[0mtarget_size\u001b[0m\u001b[0;34m=\u001b[0m\u001b[0;34m(\u001b[0m\u001b[0;36m224\u001b[0m\u001b[0;34m,\u001b[0m \u001b[0;36m224\u001b[0m\u001b[0;34m)\u001b[0m\u001b[0;34m)\u001b[0m\u001b[0;34m\u001b[0m\u001b[0;34m\u001b[0m\u001b[0m\n\u001b[0m\u001b[1;32m      3\u001b[0m \u001b[0mimage_np\u001b[0m \u001b[0;34m=\u001b[0m \u001b[0mimg_to_array\u001b[0m\u001b[0;34m(\u001b[0m\u001b[0mimage\u001b[0m\u001b[0;34m)\u001b[0m\u001b[0;34m\u001b[0m\u001b[0;34m\u001b[0m\u001b[0m\n\u001b[1;32m      4\u001b[0m \u001b[0mimage_np\u001b[0m \u001b[0;34m=\u001b[0m \u001b[0mnp\u001b[0m\u001b[0;34m.\u001b[0m\u001b[0mexpand_dims\u001b[0m\u001b[0;34m(\u001b[0m\u001b[0mimage_np\u001b[0m\u001b[0;34m,\u001b[0m \u001b[0maxis\u001b[0m\u001b[0;34m=\u001b[0m\u001b[0;36m0\u001b[0m\u001b[0;34m)\u001b[0m\u001b[0;34m\u001b[0m\u001b[0;34m\u001b[0m\u001b[0m\n",
            "\u001b[0;32m/usr/local/lib/python3.7/dist-packages/keras/utils/image_utils.py\u001b[0m in \u001b[0;36mload_img\u001b[0;34m(path, grayscale, color_mode, target_size, interpolation, keep_aspect_ratio)\u001b[0m\n\u001b[1;32m    391\u001b[0m     \u001b[0;32mif\u001b[0m \u001b[0misinstance\u001b[0m\u001b[0;34m(\u001b[0m\u001b[0mpath\u001b[0m\u001b[0;34m,\u001b[0m \u001b[0mpathlib\u001b[0m\u001b[0;34m.\u001b[0m\u001b[0mPath\u001b[0m\u001b[0;34m)\u001b[0m\u001b[0;34m:\u001b[0m\u001b[0;34m\u001b[0m\u001b[0;34m\u001b[0m\u001b[0m\n\u001b[1;32m    392\u001b[0m       \u001b[0mpath\u001b[0m \u001b[0;34m=\u001b[0m \u001b[0mstr\u001b[0m\u001b[0;34m(\u001b[0m\u001b[0mpath\u001b[0m\u001b[0;34m.\u001b[0m\u001b[0mresolve\u001b[0m\u001b[0;34m(\u001b[0m\u001b[0;34m)\u001b[0m\u001b[0;34m)\u001b[0m\u001b[0;34m\u001b[0m\u001b[0;34m\u001b[0m\u001b[0m\n\u001b[0;32m--> 393\u001b[0;31m     \u001b[0;32mwith\u001b[0m \u001b[0mopen\u001b[0m\u001b[0;34m(\u001b[0m\u001b[0mpath\u001b[0m\u001b[0;34m,\u001b[0m \u001b[0;34m'rb'\u001b[0m\u001b[0;34m)\u001b[0m \u001b[0;32mas\u001b[0m \u001b[0mf\u001b[0m\u001b[0;34m:\u001b[0m\u001b[0;34m\u001b[0m\u001b[0;34m\u001b[0m\u001b[0m\n\u001b[0m\u001b[1;32m    394\u001b[0m       \u001b[0mimg\u001b[0m \u001b[0;34m=\u001b[0m \u001b[0mpil_image\u001b[0m\u001b[0;34m.\u001b[0m\u001b[0mopen\u001b[0m\u001b[0;34m(\u001b[0m\u001b[0mio\u001b[0m\u001b[0;34m.\u001b[0m\u001b[0mBytesIO\u001b[0m\u001b[0;34m(\u001b[0m\u001b[0mf\u001b[0m\u001b[0;34m.\u001b[0m\u001b[0mread\u001b[0m\u001b[0;34m(\u001b[0m\u001b[0;34m)\u001b[0m\u001b[0;34m)\u001b[0m\u001b[0;34m)\u001b[0m\u001b[0;34m\u001b[0m\u001b[0;34m\u001b[0m\u001b[0m\n\u001b[1;32m    395\u001b[0m   \u001b[0;32melse\u001b[0m\u001b[0;34m:\u001b[0m\u001b[0;34m\u001b[0m\u001b[0;34m\u001b[0m\u001b[0m\n",
            "\u001b[0;31mFileNotFoundError\u001b[0m: [Errno 2] No such file or directory: '../data/dog.jpg'"
          ]
        }
      ]
    },
    {
      "cell_type": "code",
      "source": [
        "# Load and preprocess image.\n",
        "image = Image.open('/content/dog.jpeg')\n",
        "preprocess = transforms.Compose([\n",
        "    transforms.Resize((224, 224)),\n",
        "    transforms.ToTensor(),\n",
        "    transforms.Normalize(mean=[0.485, 0.456, 0.406], std=[0.229, 0.224, 0.225])\n",
        "]) # Parameters are documented at pytorch.org.\n",
        "input_tensor = preprocess(image)\n",
        "\n",
        "# Convert to 4-dimensional tensor.\n",
        "inputs = input_tensor.unsqueeze(0)"
      ],
      "metadata": {
        "id": "rb_K-Ebsa301"
      },
      "execution_count": 6,
      "outputs": []
    },
    {
      "cell_type": "code",
      "source": [
        "# Load the pre-trained model.\n",
        "model = torchvision.models.resnet50(weights=torchvision.models.ResNet50_Weights.IMAGENET1K_V1)\n",
        "model.eval()\n",
        "\n",
        "# Transfer model to GPU.\n",
        "model.to(device)\n",
        "\n",
        "# Do prediction.\n",
        "inputs = inputs.to(device)\n",
        "with torch.no_grad():\n",
        "    outputs = model(inputs)\n",
        "\n",
        "# Convert to probabilities, since final SoftMax activation is not in pretrained model.\n",
        "probabilities = torch.nn.functional.softmax(outputs[0], dim=0)\n",
        "\n",
        "# Print class ID for top 5 predictions.\n",
        "_, indices = torch.sort(probabilities, descending=True)\n",
        "for i in range(0, 5):\n",
        "    print('ImageNet class:', indices[i].item(), ', probability = %4.3f' % probabilities[indices[i]].item())\n",
        "\n",
        "# Show image.\n",
        "image.show()"
      ],
      "metadata": {
        "colab": {
          "base_uri": "https://localhost:8080/",
          "height": 176,
          "referenced_widgets": [
            "1b93b46e81674fe4a7f4231648b7a5ec",
            "9c6a7e735d574eda98f4f754f5ab9bb3",
            "4b07a243291249e9a062b39e9aec2ecd",
            "8327c5dc259b48db93fec44efed315bf",
            "bfd80513577f479c87647d083f80929e",
            "910abf46df6443e2a21934c239491d0d",
            "10bfc1a80fdf457d8139952f223415f9",
            "3bbe33f2ac3a418da20e489cad6a79aa",
            "13e02c2ff90b4155aa2014aee622881b",
            "19bf7f56b3fd41ae89f0d5134036ccac",
            "64b5f81a16e64ecfa6f701ffd5be5e30"
          ]
        },
        "id": "lb6aySicbAYM",
        "outputId": "b8173c4d-2282-4905-bcd9-7f96bcf40dc0"
      },
      "execution_count": 7,
      "outputs": [
        {
          "output_type": "stream",
          "name": "stderr",
          "text": [
            "Downloading: \"https://download.pytorch.org/models/resnet50-0676ba61.pth\" to /root/.cache/torch/hub/checkpoints/resnet50-0676ba61.pth\n"
          ]
        },
        {
          "output_type": "display_data",
          "data": {
            "text/plain": [
              "  0%|          | 0.00/97.8M [00:00<?, ?B/s]"
            ],
            "application/vnd.jupyter.widget-view+json": {
              "version_major": 2,
              "version_minor": 0,
              "model_id": "1b93b46e81674fe4a7f4231648b7a5ec"
            }
          },
          "metadata": {}
        },
        {
          "output_type": "stream",
          "name": "stdout",
          "text": [
            "ImageNet class: 207 , probability = 0.983\n",
            "ImageNet class: 852 , probability = 0.004\n",
            "ImageNet class: 215 , probability = 0.003\n",
            "ImageNet class: 208 , probability = 0.002\n",
            "ImageNet class: 168 , probability = 0.002\n"
          ]
        }
      ]
    },
    {
      "cell_type": "code",
      "source": [],
      "metadata": {
        "id": "7gO5uEdzcifw"
      },
      "execution_count": null,
      "outputs": []
    },
    {
      "cell_type": "code",
      "source": [
        "from tensorflow import keras\n",
        "from tensorflow.keras import layers\n",
        "\n",
        "model = keras.Sequential([\n",
        "    layers.Dense(64, activation=\"relu\"),\n",
        "    layers.Dense(10, activation=\"softmax\")\n",
        "])"
      ],
      "metadata": {
        "id": "FACkUObALRHR"
      },
      "execution_count": 8,
      "outputs": []
    },
    {
      "cell_type": "code",
      "source": [
        "model.build(input_shape=(None, 3))\n",
        "model.weights"
      ],
      "metadata": {
        "colab": {
          "base_uri": "https://localhost:8080/"
        },
        "id": "KH1ueGIuLSgN",
        "outputId": "a7644219-91e4-4f0e-8ab3-9818f0e2b95f"
      },
      "execution_count": 9,
      "outputs": [
        {
          "output_type": "execute_result",
          "data": {
            "text/plain": [
              "[<tf.Variable 'dense/kernel:0' shape=(3, 64) dtype=float32, numpy=\n",
              " array([[-0.02717254,  0.1295526 ,  0.2691127 , -0.16057831, -0.15692732,\n",
              "          0.27922714,  0.27240068, -0.04246363, -0.22925505, -0.25046024,\n",
              "          0.12418884,  0.17219767,  0.04416013, -0.10859129, -0.10877787,\n",
              "         -0.14355367, -0.08158843, -0.04298747,  0.21152794, -0.24268964,\n",
              "          0.13780484, -0.20118904,  0.03288653,  0.00878009,  0.276371  ,\n",
              "         -0.24375899,  0.04938155,  0.20576316, -0.22697723,  0.23478013,\n",
              "          0.06071988, -0.16507626, -0.14456066,  0.08619332,  0.0612188 ,\n",
              "          0.09285432, -0.05383877, -0.28753272,  0.12569255, -0.17751548,\n",
              "          0.07299262,  0.05744573, -0.14377256,  0.26340646,  0.16703397,\n",
              "         -0.28154746, -0.20625216, -0.19819054, -0.26312897, -0.04754642,\n",
              "          0.01768824,  0.04756725, -0.11319327, -0.16702797,  0.29155004,\n",
              "          0.2951023 ,  0.03836802,  0.08915076, -0.07581827,  0.15404147,\n",
              "         -0.0242238 , -0.10465683, -0.24024299, -0.04699856],\n",
              "        [-0.20613763,  0.19731104,  0.25578034,  0.0949451 , -0.09874535,\n",
              "          0.23064369,  0.11279052, -0.2599784 ,  0.11554974, -0.0415591 ,\n",
              "          0.02810645, -0.11625779, -0.28938067,  0.22589707, -0.2679509 ,\n",
              "          0.07251397, -0.21267056, -0.09873363,  0.26652372,  0.05410004,\n",
              "          0.01300749,  0.2082215 ,  0.12065807, -0.16668658,  0.02317372,\n",
              "          0.08760053,  0.02228025,  0.13246614,  0.14812174, -0.13758439,\n",
              "         -0.22811407, -0.09433186,  0.09290576, -0.08642071, -0.16539782,\n",
              "         -0.1415598 ,  0.07230183, -0.11510737,  0.23227525, -0.10455337,\n",
              "         -0.07407583,  0.1944071 ,  0.0335975 , -0.00361603,  0.27251428,\n",
              "          0.17259336, -0.06238426, -0.2900738 ,  0.27175087, -0.28938466,\n",
              "         -0.21486807, -0.12654266,  0.10924125, -0.03121313, -0.06795807,\n",
              "         -0.20808771,  0.14205664, -0.17903966,  0.19892633, -0.26083994,\n",
              "          0.10696006,  0.0686754 , -0.0455313 , -0.10991657],\n",
              "        [ 0.08244303,  0.08041853, -0.04946089, -0.16884847, -0.28787446,\n",
              "          0.25315946, -0.14641291, -0.24882887, -0.2673987 ,  0.00797528,\n",
              "          0.05651766, -0.23023123, -0.2101311 ,  0.18090448, -0.20198879,\n",
              "          0.07810059,  0.18570018,  0.04832375, -0.22954509, -0.25989965,\n",
              "         -0.21140558, -0.09854671, -0.291044  , -0.11419471, -0.08319145,\n",
              "         -0.07251674, -0.05369002, -0.28238198, -0.03590924, -0.26826498,\n",
              "         -0.02416474, -0.0819194 ,  0.23372376, -0.03268725,  0.01241502,\n",
              "         -0.11781436,  0.0366984 ,  0.21850878,  0.05883101,  0.25982368,\n",
              "          0.19653454, -0.2028361 ,  0.19237301,  0.15513128, -0.04491913,\n",
              "         -0.28956732, -0.22235762,  0.22166598, -0.01585019,  0.17067227,\n",
              "          0.17863798,  0.11418286, -0.26491022, -0.23308948,  0.2972203 ,\n",
              "         -0.19185004, -0.10116816, -0.2811547 , -0.2174479 , -0.21314567,\n",
              "          0.04603887,  0.29103094, -0.2531818 ,  0.09894896]],\n",
              "       dtype=float32)>,\n",
              " <tf.Variable 'dense/bias:0' shape=(64,) dtype=float32, numpy=\n",
              " array([0., 0., 0., 0., 0., 0., 0., 0., 0., 0., 0., 0., 0., 0., 0., 0., 0.,\n",
              "        0., 0., 0., 0., 0., 0., 0., 0., 0., 0., 0., 0., 0., 0., 0., 0., 0.,\n",
              "        0., 0., 0., 0., 0., 0., 0., 0., 0., 0., 0., 0., 0., 0., 0., 0., 0.,\n",
              "        0., 0., 0., 0., 0., 0., 0., 0., 0., 0., 0., 0., 0.], dtype=float32)>,\n",
              " <tf.Variable 'dense_1/kernel:0' shape=(64, 10) dtype=float32, numpy=\n",
              " array([[-0.18137616, -0.2514199 , -0.0863439 , -0.20970058, -0.23677719,\n",
              "         -0.11716132,  0.05515662,  0.25883773, -0.09447192,  0.01454762],\n",
              "        [-0.21232347,  0.24359408,  0.05096629, -0.15721051, -0.17110272,\n",
              "          0.07900298, -0.13677461,  0.12487516, -0.24254844,  0.2435858 ],\n",
              "        [ 0.21096608,  0.20212531, -0.06767426, -0.14115006,  0.00596648,\n",
              "         -0.1600772 ,  0.2523705 , -0.1241803 , -0.18503417, -0.06767875],\n",
              "        [-0.18124114, -0.06757821,  0.05761373,  0.22869655,  0.17106763,\n",
              "          0.01100698,  0.28083232,  0.09881267, -0.04284303, -0.04521799],\n",
              "        [-0.16931236, -0.00492704,  0.19985706, -0.18492235, -0.05641365,\n",
              "          0.22739056,  0.21886113, -0.15248862,  0.17662176, -0.26575842],\n",
              "        [-0.15133817, -0.067637  , -0.08869217, -0.26178458,  0.2554991 ,\n",
              "         -0.23035134, -0.23532401,  0.09227225, -0.23639205,  0.19650143],\n",
              "        [-0.09176938, -0.11996576, -0.22542314,  0.141662  ,  0.11309883,\n",
              "         -0.04943228, -0.2560529 , -0.01885679, -0.13194057,  0.23840484],\n",
              "        [-0.1326598 , -0.20591345, -0.21533495, -0.09832965, -0.18798679,\n",
              "         -0.25621572, -0.1495958 , -0.06182963, -0.10414088,  0.23539546],\n",
              "        [-0.12673327, -0.21727306,  0.00974154,  0.17985389, -0.27843323,\n",
              "          0.15517771,  0.03950948, -0.1881809 ,  0.13269794,  0.0623726 ],\n",
              "        [-0.20774843,  0.13208714,  0.06913286,  0.05266088, -0.15818493,\n",
              "          0.1867485 , -0.08580893, -0.05192658, -0.07797439, -0.17586392],\n",
              "        [-0.18706155, -0.03743187,  0.22024593, -0.08877902, -0.11183366,\n",
              "          0.2798051 ,  0.13391703, -0.16867413,  0.18922943, -0.26710743],\n",
              "        [-0.04893512,  0.22617754,  0.02564076, -0.08050001, -0.08210932,\n",
              "         -0.14600489,  0.1917677 , -0.02723506, -0.00420064,  0.03013867],\n",
              "        [ 0.01684213, -0.20509274,  0.261502  , -0.1257814 , -0.23154423,\n",
              "         -0.24959803,  0.0408906 , -0.09584877, -0.04333481, -0.25729442],\n",
              "        [-0.2682987 ,  0.23121473,  0.0306139 ,  0.26398   , -0.2083891 ,\n",
              "         -0.19463205, -0.01627192,  0.22659871,  0.07805547, -0.11495467],\n",
              "        [-0.13931909, -0.16738153,  0.1103777 ,  0.27159312,  0.20853871,\n",
              "         -0.00655714, -0.15836008, -0.00801498,  0.12252048, -0.19201303],\n",
              "        [ 0.07540622, -0.08133437, -0.17297918, -0.23405924,  0.15276033,\n",
              "          0.01885211, -0.17579746, -0.09842402,  0.15199229, -0.14772369],\n",
              "        [ 0.27378377, -0.02377021, -0.23947856,  0.10885048,  0.22242478,\n",
              "         -0.1424333 , -0.1021592 ,  0.03307384,  0.02480239, -0.06156635],\n",
              "        [ 0.08403546,  0.24804774,  0.0904958 , -0.27950162, -0.12008625,\n",
              "          0.08923754,  0.26008865,  0.22790834,  0.17207122, -0.00960019],\n",
              "        [-0.07612585,  0.24282292,  0.06942153,  0.1880841 , -0.17678076,\n",
              "          0.16073349,  0.24185523, -0.07863346, -0.22600712, -0.04752384],\n",
              "        [ 0.21262333,  0.0659526 , -0.09416689, -0.26148438, -0.12478635,\n",
              "          0.12051675,  0.16670975,  0.24487242, -0.05027233, -0.2322375 ],\n",
              "        [ 0.038443  , -0.1235562 , -0.08220945,  0.05645281, -0.16140783,\n",
              "          0.23180977,  0.19291955,  0.12993106, -0.2696874 ,  0.04338714],\n",
              "        [-0.24324647,  0.12558669, -0.23346888,  0.19641998,  0.17229724,\n",
              "         -0.1962028 ,  0.02128628, -0.1734451 ,  0.27037635,  0.01140046],\n",
              "        [ 0.06148767,  0.2245327 , -0.12799825,  0.26481697,  0.28246972,\n",
              "         -0.13038489,  0.27251658, -0.26698327, -0.11628732, -0.20251921],\n",
              "        [ 0.11366314, -0.09264401, -0.05277696, -0.2525248 , -0.07161829,\n",
              "         -0.2822321 ,  0.07310438,  0.13724765,  0.04286155, -0.2658472 ],\n",
              "        [-0.22128285,  0.23876837,  0.06497562, -0.28277203,  0.2675604 ,\n",
              "          0.10340068,  0.09187639, -0.23213255, -0.03976922, -0.12624231],\n",
              "        [ 0.17433545,  0.00640914, -0.04275532,  0.08117768, -0.1745593 ,\n",
              "         -0.2708025 ,  0.1392633 , -0.03154066,  0.07026029, -0.2677475 ],\n",
              "        [-0.05563496, -0.24357301, -0.18526879,  0.20864111,  0.2774339 ,\n",
              "          0.03399125, -0.03462633, -0.27843928, -0.1588019 ,  0.12251315],\n",
              "        [ 0.07930529,  0.24318638,  0.0217903 , -0.28330678, -0.18908966,\n",
              "         -0.1997401 ,  0.19471869, -0.11424448,  0.27601364,  0.03671202],\n",
              "        [-0.13448058,  0.18492392,  0.10122845,  0.10889867, -0.05608648,\n",
              "          0.12283102,  0.02831286, -0.23243031, -0.16814099, -0.2720304 ],\n",
              "        [ 0.0317378 ,  0.26122764,  0.20469436, -0.06588213, -0.27186632,\n",
              "         -0.13336842,  0.01135254, -0.21767028, -0.01031676, -0.24595022],\n",
              "        [ 0.03342545, -0.05221206, -0.15080538, -0.20226917, -0.253047  ,\n",
              "          0.003506  , -0.19582948, -0.07494335, -0.12961306, -0.04712452],\n",
              "        [-0.08423567,  0.07933876,  0.14799374,  0.129058  ,  0.27534142,\n",
              "         -0.25809598,  0.08875424, -0.14382917, -0.01818591, -0.20279041],\n",
              "        [-0.17470416, -0.15206364,  0.1732218 ,  0.1793659 , -0.08043408,\n",
              "         -0.19624156, -0.1304853 , -0.06010517,  0.25222614,  0.0819343 ],\n",
              "        [ 0.05996412, -0.02911383, -0.1538316 ,  0.18403524, -0.07122752,\n",
              "          0.25914696, -0.24401897, -0.06433067,  0.20709527,  0.24378785],\n",
              "        [-0.18095043, -0.03949955,  0.14778078, -0.17734899, -0.15551403,\n",
              "          0.11323735,  0.20714638, -0.01495609,  0.16307905,  0.2832966 ],\n",
              "        [ 0.03168538,  0.20999834,  0.08160076,  0.1083397 ,  0.22617146,\n",
              "          0.17136443, -0.10234264, -0.141628  ,  0.18357924, -0.12525648],\n",
              "        [-0.25049707,  0.24626753,  0.07783055,  0.2265214 , -0.06014639,\n",
              "          0.12597632,  0.12993452, -0.09198378,  0.00433213, -0.03193739],\n",
              "        [ 0.17536995,  0.22625652, -0.20211303, -0.03288561,  0.16468674,\n",
              "         -0.11388017, -0.10912897,  0.18121439, -0.0400411 ,  0.22928539],\n",
              "        [ 0.05624643, -0.15991935, -0.03446028, -0.19163129,  0.15683109,\n",
              "         -0.21779254,  0.2652934 , -0.09835714,  0.21331966, -0.06952587],\n",
              "        [-0.20814252,  0.07141075, -0.04112442,  0.15830815,  0.20281106,\n",
              "         -0.23901656,  0.10648578, -0.20401208, -0.00733683,  0.16687995],\n",
              "        [-0.19920234, -0.28392792,  0.23505947, -0.2701798 , -0.21657035,\n",
              "         -0.0571256 , -0.15354158, -0.03744707,  0.27617946,  0.18365711],\n",
              "        [ 0.22049323, -0.02821559,  0.02752894,  0.26426253,  0.18151698,\n",
              "          0.06099719,  0.20665765,  0.19006604,  0.11908054, -0.17272127],\n",
              "        [ 0.12860513,  0.16864139, -0.06353249,  0.0656074 , -0.17787975,\n",
              "         -0.19678842,  0.18601477, -0.01312634, -0.0286845 , -0.03466395],\n",
              "        [ 0.09057814,  0.11551732,  0.24212924, -0.21281785,  0.01337007,\n",
              "         -0.16546255,  0.0486373 ,  0.19220644, -0.15348008,  0.17499936],\n",
              "        [-0.26952097, -0.12461832, -0.23969376,  0.23632887, -0.00527009,\n",
              "          0.18686485, -0.27369934, -0.27702263, -0.18746826,  0.10445845],\n",
              "        [ 0.02622154, -0.11709377,  0.2256225 , -0.25187135, -0.14362958,\n",
              "          0.16261014,  0.24963304, -0.02271235, -0.00266111, -0.06588253],\n",
              "        [-0.07206574, -0.05407873, -0.17821586, -0.27812475,  0.04719186,\n",
              "          0.15614194,  0.0964185 ,  0.17352092,  0.02525291, -0.20908862],\n",
              "        [-0.02090338,  0.24000064,  0.16771254,  0.01678529, -0.09063984,\n",
              "         -0.09703772, -0.08132561, -0.26181448,  0.26281938,  0.01585123],\n",
              "        [-0.22155082, -0.13954258,  0.26631233, -0.12216163, -0.07364233,\n",
              "          0.2348403 , -0.04463272,  0.24485728, -0.11659622, -0.01987264],\n",
              "        [-0.09852089,  0.13614509, -0.09158738,  0.05952764,  0.27365574,\n",
              "          0.0041855 , -0.05571574,  0.25192997,  0.16674104,  0.09132573],\n",
              "        [ 0.23584995, -0.18080258, -0.2530942 , -0.0476806 , -0.03890763,\n",
              "         -0.16165608,  0.22460005,  0.21483469, -0.11976542,  0.16743937],\n",
              "        [-0.08953889, -0.00117341, -0.10466139,  0.01239112,  0.23768875,\n",
              "          0.00765735, -0.01737696,  0.19426024, -0.07247478, -0.2008492 ],\n",
              "        [-0.24768946,  0.19007248,  0.03666058, -0.05942778, -0.10532141,\n",
              "         -0.15424383, -0.18248181, -0.05101687,  0.24545953, -0.10902977],\n",
              "        [ 0.08926862, -0.2058129 ,  0.18492717, -0.09897655,  0.25472233,\n",
              "          0.28221104, -0.08956231, -0.074072  ,  0.22002241,  0.27883103],\n",
              "        [ 0.10252064,  0.09916008, -0.0024994 ,  0.15714234, -0.24510887,\n",
              "         -0.22310032,  0.21672264,  0.12359571, -0.21996805, -0.1904452 ],\n",
              "        [-0.25507444,  0.24782553,  0.17814505,  0.05398321,  0.27776644,\n",
              "         -0.03026   , -0.17292479,  0.06285504,  0.11563465,  0.11720118],\n",
              "        [-0.20074329, -0.2380021 ,  0.09493601, -0.17823276,  0.19590884,\n",
              "          0.24571642, -0.06333229,  0.12954748,  0.19133827,  0.282078  ],\n",
              "        [-0.27313524, -0.08942878, -0.07952715, -0.16347647,  0.2117993 ,\n",
              "         -0.03414094,  0.15510187, -0.20624876, -0.21746159, -0.0465167 ],\n",
              "        [-0.12444589, -0.04353936, -0.03500584, -0.14467323, -0.05800754,\n",
              "          0.11062789, -0.2233921 , -0.01354861,  0.15231144,  0.11807993],\n",
              "        [ 0.03894627, -0.00399649,  0.16299257,  0.28141633, -0.01284033,\n",
              "         -0.03087318, -0.06251219, -0.10345201,  0.27566877,  0.22530124],\n",
              "        [-0.00287247, -0.00641164, -0.14751834,  0.12481746,  0.14209175,\n",
              "         -0.0103209 , -0.02517211, -0.27463898,  0.00039756, -0.19704497],\n",
              "        [ 0.19864994, -0.105414  ,  0.2129938 , -0.02141207, -0.04891875,\n",
              "          0.00738797, -0.1747449 , -0.21331601,  0.03217426,  0.04392347],\n",
              "        [ 0.06145963, -0.12325193, -0.0249007 , -0.00742611, -0.17150244,\n",
              "         -0.1537297 ,  0.04482803,  0.20651394,  0.1559149 , -0.26318944],\n",
              "        [ 0.04524997,  0.14621907, -0.04076684,  0.27358052, -0.04990409,\n",
              "         -0.27991635,  0.13486421, -0.0679981 , -0.01751587, -0.1183686 ]],\n",
              "       dtype=float32)>,\n",
              " <tf.Variable 'dense_1/bias:0' shape=(10,) dtype=float32, numpy=array([0., 0., 0., 0., 0., 0., 0., 0., 0., 0.], dtype=float32)>]"
            ]
          },
          "metadata": {},
          "execution_count": 9
        }
      ]
    },
    {
      "cell_type": "code",
      "source": [
        "model.summary()"
      ],
      "metadata": {
        "colab": {
          "base_uri": "https://localhost:8080/"
        },
        "id": "vGvcQgUsLhDV",
        "outputId": "8154a566-3535-484f-a5af-0b0407168983"
      },
      "execution_count": 10,
      "outputs": [
        {
          "output_type": "stream",
          "name": "stdout",
          "text": [
            "Model: \"sequential\"\n",
            "_________________________________________________________________\n",
            " Layer (type)                Output Shape              Param #   \n",
            "=================================================================\n",
            " dense (Dense)               (None, 64)                256       \n",
            "                                                                 \n",
            " dense_1 (Dense)             (None, 10)                650       \n",
            "                                                                 \n",
            "=================================================================\n",
            "Total params: 906\n",
            "Trainable params: 906\n",
            "Non-trainable params: 0\n",
            "_________________________________________________________________\n"
          ]
        }
      ]
    },
    {
      "cell_type": "code",
      "source": [
        "inputs = keras.Input(shape=(3,), name=\"my_input\")\n",
        "features = layers.Dense(64, activation=\"relu\")(inputs)\n",
        "outputs = layers.Dense(10, activation=\"softmax\")(features)\n",
        "model = keras.Model(inputs=inputs, outputs=outputs)\n"
      ],
      "metadata": {
        "id": "SQUoyty4MTLO"
      },
      "execution_count": 11,
      "outputs": []
    },
    {
      "cell_type": "code",
      "source": [
        "inputs = keras.Input(shape=(3,), name=\"my_input\")"
      ],
      "metadata": {
        "id": "MnA0XD7AMY3z"
      },
      "execution_count": 12,
      "outputs": []
    },
    {
      "cell_type": "code",
      "source": [
        "inputs.shape"
      ],
      "metadata": {
        "colab": {
          "base_uri": "https://localhost:8080/"
        },
        "id": "kr1S2KvQMfcX",
        "outputId": "227cd287-36b9-4edd-c78e-885807f257e5"
      },
      "execution_count": 13,
      "outputs": [
        {
          "output_type": "execute_result",
          "data": {
            "text/plain": [
              "TensorShape([None, 3])"
            ]
          },
          "metadata": {},
          "execution_count": 13
        }
      ]
    },
    {
      "cell_type": "code",
      "source": [
        "inputs.dtype"
      ],
      "metadata": {
        "colab": {
          "base_uri": "https://localhost:8080/"
        },
        "id": "RweEAFaPMinl",
        "outputId": "e44e4c6c-0599-4974-ebba-0cd6d18d7514"
      },
      "execution_count": 14,
      "outputs": [
        {
          "output_type": "execute_result",
          "data": {
            "text/plain": [
              "tf.float32"
            ]
          },
          "metadata": {},
          "execution_count": 14
        }
      ]
    },
    {
      "cell_type": "code",
      "source": [
        "features = layers.Dense(64, activation=\"relu\")(inputs)"
      ],
      "metadata": {
        "id": "hFU3tPLDMmvR"
      },
      "execution_count": 15,
      "outputs": []
    },
    {
      "cell_type": "code",
      "source": [
        "features.shape"
      ],
      "metadata": {
        "colab": {
          "base_uri": "https://localhost:8080/"
        },
        "id": "WMLpcYZSMs3B",
        "outputId": "0bff902b-5194-4fa9-aa09-4843a7deec68"
      },
      "execution_count": 16,
      "outputs": [
        {
          "output_type": "execute_result",
          "data": {
            "text/plain": [
              "TensorShape([None, 64])"
            ]
          },
          "metadata": {},
          "execution_count": 16
        }
      ]
    },
    {
      "cell_type": "code",
      "source": [
        "outputs = layers.Dense(10, activation=\"softmax\")(features)\n",
        "model = keras.Model(inputs=inputs, outputs=outputs)"
      ],
      "metadata": {
        "id": "kATBzBmiMwME"
      },
      "execution_count": 17,
      "outputs": []
    },
    {
      "cell_type": "code",
      "source": [
        "model.summary()"
      ],
      "metadata": {
        "colab": {
          "base_uri": "https://localhost:8080/"
        },
        "id": "eV5lxr9BM0X-",
        "outputId": "546efa6c-7c73-4fea-db02-900aea215984"
      },
      "execution_count": 18,
      "outputs": [
        {
          "output_type": "stream",
          "name": "stdout",
          "text": [
            "Model: \"model_1\"\n",
            "_________________________________________________________________\n",
            " Layer (type)                Output Shape              Param #   \n",
            "=================================================================\n",
            " my_input (InputLayer)       [(None, 3)]               0         \n",
            "                                                                 \n",
            " dense_4 (Dense)             (None, 64)                256       \n",
            "                                                                 \n",
            " dense_5 (Dense)             (None, 10)                650       \n",
            "                                                                 \n",
            "=================================================================\n",
            "Total params: 906\n",
            "Trainable params: 906\n",
            "Non-trainable params: 0\n",
            "_________________________________________________________________\n"
          ]
        }
      ]
    }
  ]
}